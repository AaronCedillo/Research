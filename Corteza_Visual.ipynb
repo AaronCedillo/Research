{
 "cells": [
  {
   "cell_type": "markdown",
   "metadata": {},
   "source": [
    "<h1 style=\"text-align:center\"> Corteza visual del cerebro </h1>\n",
    "<img src=\"https://i1.wp.com/www.scienceandtechnologyresearchnews.com/wp-content/uploads/2019/03/MIT-Object-Recognition_0.jpg?fit=639%2C426&ssl=1\" width=\"400\" height=\"300\" class=\"center\">"
   ]
  },
  {
   "cell_type": "markdown",
   "metadata": {},
   "source": [
    "<font size=\"3\"> <br> La vista es uno de los sentidos más evolucionados e importantes en el ser humano. Gracias a él podemos ver la existencia de estímulos o situaciones ventajosas o amenazadoras a nuestro alrededor con gran nivel de precisión, especialmente a la luz del día (por ejemplo, nos permite observar si en el entorno existen depredadores o tenemos algún tipo de alimento disponible).<br><br>\n",
    "<i>Corteza visual: ¿qué es y donde está?</i> <br> Se conoce como corteza visual a la parte de la corteza principalmente dedicada al procesamiento de la estimulación visual proveniente de los fotorreceptores de la retina. Se trata de uno de los sentidos más representados a nivel de corteza, ocupando su procesamiento la mayor parte del lóbulo occipital y una pequeña parte de los parietales. La información visual pasa desde los ojos hasta el núcleo geniculado lateral del tálamo y al colículo superior, de manera ipsilateral, para finalmente llegar hasta la corteza cerebral para su procesamiento. Una vez allí las diferentes informaciones captadas por los receptores son trabajados e integrados para darles un sentido y permitirnos la percepción real de aspectos fundamentales como la distancia, el color, la forma, la profundidad o el movimiento, y finalmente para darles un sentido conjunto.</font> "
   ]
  },
  {
   "cell_type": "code",
   "execution_count": null,
   "metadata": {},
   "outputs": [],
   "source": []
  }
 ],
 "metadata": {
  "kernelspec": {
   "display_name": "Python 3",
   "language": "python",
   "name": "python3"
  },
  "language_info": {
   "codemirror_mode": {
    "name": "ipython",
    "version": 3
   },
   "file_extension": ".py",
   "mimetype": "text/x-python",
   "name": "python",
   "nbconvert_exporter": "python",
   "pygments_lexer": "ipython3",
   "version": "3.7.3"
  }
 },
 "nbformat": 4,
 "nbformat_minor": 2
}
